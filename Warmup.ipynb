{
 "cells": [
  {
   "cell_type": "markdown",
   "metadata": {},
   "source": [
    "### What is object-oriented programming? How have we used objects in this class?"
   ]
  },
  {
   "cell_type": "markdown",
   "metadata": {},
   "source": [
    "There are four principles of object oriented programming.  Encapsulation, abstraction, inheritance, and polymorphism.  Encapsulation includes the use of classes and methods.  When objects are incividually encapsulated you cannot make changes to the object directly, you can interact with it by calling it's methods. Abstraction refers to the idea that you don't really have to be able to see all of the things that are happening when you call the few publicly available methods.  It is like a car.  When you operate a car you turn the key.  You don't need to understand the individual parts that are being utilized to make the engine start.  Those are abstracted from the end user. Inheritance refers to the use of parent and child classes to create a situation where the initial parent class characteristics apply but new unique child characterisitics can be added which apply only to the child.  It is a way to reuse common logic and add only what is necessary at each level. Polymorphism refers to the ability of different child classes of a common parent class to utilize their own way of applying a common method within a single call to a list or similar.  \n",
    "\n",
    "We used object oriented programming in this class through the creation of classes within programming."
   ]
  },
  {
   "cell_type": "markdown",
   "metadata": {},
   "source": [
    "### What’s the difference between a REST API and  CRUD API? "
   ]
  },
  {
   "cell_type": "markdown",
   "metadata": {},
   "source": [
    "REST apis use https: architecture to create a website using the methods \"GET\", \"POST\", \"PUT\", and \"DELETE\".  REST refers to representational state transfer.  CRUD is a set of methods used on storage such as a database.  The acronym stands for \"CREATE\", \"REVIEW\", \"UPDATE\", and \"DELETE\" and each of these things would apply to data being stored."
   ]
  },
  {
   "cell_type": "code",
   "execution_count": null,
   "metadata": {},
   "outputs": [],
   "source": []
  },
  {
   "cell_type": "markdown",
   "metadata": {},
   "source": [
    "### Why is MongoDB considered to be a non-relational database? What does it mean for a database to be “non-relational”? How does that differ from “relational” databases?"
   ]
  },
  {
   "cell_type": "markdown",
   "metadata": {},
   "source": [
    "MongoDB follows a document type format and so is considered a non-relational database.  Non relational databases store data in a format other than relational tables.In relational databases related data is split between tables.  NoSQL allows for data to be nested within a single data structure.  It also allows for a large amount of flexibility when storing large data amounts. "
   ]
  },
  {
   "cell_type": "markdown",
   "metadata": {},
   "source": [
    "### What are the four types of NoSQL databases? What type is MongoDB? How does that type work?"
   ]
  },
  {
   "cell_type": "markdown",
   "metadata": {},
   "source": [
    "The main types are document, key-value, wide column and graph. MongoDB is a documents type format. The way that document type databases are structured is that documents are structured with the end use in mind.  In that way there will be some duplication of information across documents.  The documents are nested within collections within a database."
   ]
  },
  {
   "cell_type": "code",
   "execution_count": null,
   "metadata": {},
   "outputs": [],
   "source": []
  }
 ],
 "metadata": {
  "kernelspec": {
   "display_name": "Python 3",
   "language": "python",
   "name": "python3"
  },
  "language_info": {
   "codemirror_mode": {
    "name": "ipython",
    "version": 3
   },
   "file_extension": ".py",
   "mimetype": "text/x-python",
   "name": "python",
   "nbconvert_exporter": "python",
   "pygments_lexer": "ipython3",
   "version": "3.8.5"
  }
 },
 "nbformat": 4,
 "nbformat_minor": 4
}
